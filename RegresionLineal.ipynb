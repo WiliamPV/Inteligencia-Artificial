{
 "cells": [
  {
   "cell_type": "code",
   "execution_count": 1,
   "metadata": {},
   "outputs": [
    {
     "data": {
      "image/png": "[encoded data removed]",
      "text/plain": [
       "<Figure size 640x480 with 1 Axes>"
      ]
     },
     "metadata": {},
     "output_type": "display_data"
    }
   ],
   "source": [
    "import numpy as np\n",
    "import random\n",
    "from sklearn import linear_model\n",
    "from sklearn.metrics import mean_squared_error, r2_score\n",
    "import matplotlib.pyplot as plt\n",
    "%matplotlib inline\n",
    "\n",
    "# Generador de distribución de datos para regresión lineal simple\n",
    "def generador_datos_simple(beta, muestras, desviacion):\n",
    "    # Genero n (muestras) valores de x aleatorios entre 0 y 100\n",
    "    x = np.random.random(muestras) * 100\n",
    "    # Genero un error aleatorio gaussiano con desviación típica (desviacion)\n",
    "    e = np.random.randn(muestras) * desviacion\n",
    "    # Obtengo el y real como x*beta + error\n",
    "    y = x * beta + e\n",
    "    return x.reshape((muestras,1)), y.reshape((muestras,1))\n",
    "\n",
    "# Parámetros de la distribución\n",
    "desviacion = 200\n",
    "beta = 10\n",
    "n = 50\n",
    "x, y = generador_datos_simple(beta, n, desviacion)\n",
    "\n",
    "# Represento los datos generados\n",
    "plt.scatter(x, y)\n",
    "plt.show()"
   ]
  },
  {
   "cell_type": "code",
   "execution_count": 1,
   "metadata": {},
   "outputs": [
    {
     "ename": "NameError",
     "evalue": "name 'linear_model' is not defined",
     "output_type": "error",
     "traceback": [
      "\u001b[0;31m---------------------------------------------------------------------------\u001b[0m",
      "\u001b[0;31mNameError\u001b[0m                                 Traceback (most recent call last)",
      "Cell \u001b[0;32mIn[1], line 2\u001b[0m\n\u001b[1;32m      1\u001b[0m \u001b[38;5;66;03m# Creo un modelo de regresión lineal\u001b[39;00m\n\u001b[0;32m----> 2\u001b[0m modelo \u001b[38;5;241m=\u001b[39m \u001b[43mlinear_model\u001b[49m\u001b[38;5;241m.\u001b[39mLinearRegression()\n\u001b[1;32m      4\u001b[0m \u001b[38;5;66;03m# Entreno el modelo con los datos (X,Y)\u001b[39;00m\n\u001b[1;32m      5\u001b[0m modelo\u001b[38;5;241m.\u001b[39mfit(x, y)\n",
      "\u001b[0;31mNameError\u001b[0m: name 'linear_model' is not defined"
     ]
    }
   ],
   "source": [
    "# Creo un modelo de regresión lineal\n",
    "modelo = linear_model.LinearRegression()\n",
    " \n",
    "# Entreno el modelo con los datos (X,Y)\n",
    "modelo.fit(x, y)\n",
    "# Ahora puedo obtener el coeficiente b_1\n",
    "print ('Coeficiente beta1: ', modelo.coef_[0] )\n",
    " \n",
    "# Podemos predecir usando el modelo\n",
    "y_pred = modelo.predict(x)\n",
    " \n",
    "# Por último, calculamos el error cuadrático medio y el estadístico R^2\n",
    "print ('Error cuadrático medio: %.2f' % mean_squared_error(y, y_pred))\n",
    "print ('Estadístico R_2: %.2f' % r2_score(y, y_pred))\n"
   ]
  },
  {
   "cell_type": "code",
   "execution_count": 2,
   "metadata": {},
   "outputs": [
    {
     "ename": "NameError",
     "evalue": "name 'plt' is not defined",
     "output_type": "error",
     "traceback": [
      "\u001b[0;31m---------------------------------------------------------------------------\u001b[0m",
      "\u001b[0;31mNameError\u001b[0m                                 Traceback (most recent call last)",
      "Cell \u001b[0;32mIn[2], line 2\u001b[0m\n\u001b[1;32m      1\u001b[0m \u001b[38;5;66;03m# Representamos el ajuste (rojo) y la recta Y = beta*x (verde)\u001b[39;00m\n\u001b[0;32m----> 2\u001b[0m \u001b[43mplt\u001b[49m\u001b[38;5;241m.\u001b[39mscatter(x, y)\n\u001b[1;32m      3\u001b[0m plt\u001b[38;5;241m.\u001b[39mplot(x, y_pred, color\u001b[38;5;241m=\u001b[39m\u001b[38;5;124m'\u001b[39m\u001b[38;5;124mred\u001b[39m\u001b[38;5;124m'\u001b[39m)\n\u001b[1;32m      4\u001b[0m x_real \u001b[38;5;241m=\u001b[39m np\u001b[38;5;241m.\u001b[39marray([\u001b[38;5;241m0\u001b[39m, \u001b[38;5;241m100\u001b[39m])\n",
      "\u001b[0;31mNameError\u001b[0m: name 'plt' is not defined"
     ]
    }
   ],
   "source": [
    "# Representamos el ajuste (rojo) y la recta Y = beta*x (verde)\n",
    "plt.scatter(x, y)\n",
    "plt.plot(x, y_pred, color='red')\n",
    "x_real = np.array([0, 100])\n",
    "y_real = x_real*beta\n",
    "plt.plot(x_real, y_real, color='green')\n",
    "plt.show()\n"
   ]
  }
 ],
 "metadata": {
  "kernelspec": {
   "display_name": "Python 3 (ipykernel)",
   "language": "python",
   "name": "python3"
  },
  "language_info": {
   "codemirror_mode": {
    "name": "ipython",
    "version": 3
   },
   "file_extension": ".py",
   "mimetype": "text/x-python",
   "name": "python",
   "nbconvert_exporter": "python",
   "pygments_lexer": "ipython3",
   "version": "3.10.13"
  }
 },
 "nbformat": 4,
 "nbformat_minor": 2
}
